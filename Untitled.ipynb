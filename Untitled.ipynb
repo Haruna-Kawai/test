{
 "cells": [
  {
   "cell_type": "code",
   "execution_count": 4,
   "metadata": {
    "collapsed": false
   },
   "outputs": [],
   "source": [
    "import scipy.stats as stats    \n",
    "import matplotlib.pyplot as plt\n"
   ]
  },
  {
   "cell_type": "code",
   "execution_count": 5,
   "metadata": {
    "collapsed": false
   },
   "outputs": [
    {
     "name": "stdout",
     "output_type": "stream",
     "text": [
      "[ 235.07706804  129.75044923  294.71802281 ...,  191.40335354  180.14620924\n",
      "  159.6234333 ]\n"
     ]
    }
   ],
   "source": [
    "alpha = 5\n",
    "loc = 100.5\n",
    "beta = 22\n",
    "data = stats.gamma.rvs(alpha, loc=loc, scale=beta, size=10000)    \n",
    "print(data)"
   ]
  },
  {
   "cell_type": "code",
   "execution_count": 28,
   "metadata": {
    "collapsed": false
   },
   "outputs": [
    {
     "name": "stdout",
     "output_type": "stream",
     "text": [
      "5.12876626712 99.76415493 21.683223034\n",
      "5 100.5 22\n"
     ]
    },
    {
     "data": {
      "image/png": "[encoded data removed]",
      "text/plain": [
       "<matplotlib.figure.Figure at 0x1d065428940>"
      ]
     },
     "metadata": {},
     "output_type": "display_data"
    }
   ],
   "source": [
    "fit_alpha, fit_loc, fit_beta=stats.gamma.fit(data)\n",
    "print(fit_alpha, fit_loc, fit_beta)\n",
    "# (5.0833692504230008, 100.08697963283467, 21.739518937816108)\n",
    "\n",
    "print(alpha, loc, beta)\n",
    "# (5, 100.5, 22)\n",
    "\n",
    "x = np.linspace(0,500,500)\n",
    "ps_hat = stats.gamma.pdf(x, fit_alpha, loc=fit_loc, scale=fit_beta)\n",
    "\n",
    "plt.figure()\n",
    "plt.hist(data,normed=True)\n",
    "plt.plot(x,ps_hat)\n",
    "plt.show()"
   ]
  }
 ],
 "metadata": {
  "kernelspec": {
   "display_name": "Python 3",
   "language": "python",
   "name": "python3"
  },
  "language_info": {
   "codemirror_mode": {
    "name": "ipython",
    "version": 3
   },
   "file_extension": ".py",
   "mimetype": "text/x-python",
   "name": "python",
   "nbconvert_exporter": "python",
   "pygments_lexer": "ipython3",
   "version": "3.6.0"
  }
 },
 "nbformat": 4,
 "nbformat_minor": 2
}
